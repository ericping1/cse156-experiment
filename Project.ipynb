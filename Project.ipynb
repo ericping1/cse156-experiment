{
 "cells": [
  {
   "cell_type": "code",
   "execution_count": 1,
   "metadata": {},
   "outputs": [],
   "source": [
    "import csv\n",
    "import pandas as pd\n",
    "import numpy as np\n",
    "import sklearn.utils\n",
    "\n",
    "from sklearn.feature_extraction.text import CountVectorizer\n",
    "\n",
    "import torch\n",
    "import torch.nn as nn\n",
    "import torch.optim as optim\n",
    "from torchvision import transforms, utils\n",
    "import torch.nn.functional as F\n",
    "import torch.nn.init as torch_init\n",
    "\n",
    "import matplotlib.pyplot as plt\n"
   ]
  },
  {
   "cell_type": "code",
   "execution_count": 2,
   "metadata": {},
   "outputs": [],
   "source": [
    "# Get dataframe and simple pared down version of it , note 5500 workds\n",
    "training_dataframe = sklearn.utils.shuffle(pd.read_csv(\"train-balanced-sarcasm.csv\")).iloc[:100]\n",
    "\n",
    "# Create vectorizer to convert words to vectors\n",
    "vectorizer = CountVectorizer()\n",
    "vectorizer.fit(training_dataframe['comment'].values.astype('U'))\n",
    "\n",
    "# Create training data and labels with dataframe and vectorizer\n",
    "y = np.array(training_dataframe[\"label\"].tolist()).T\n",
    "x = np.matrix(vectorizer.transform(training_dataframe['comment'].values.astype('U')).toarray())\n",
    "\n",
    "\n",
    "validation_df = sklearn.utils.shuffle(pd.read_csv(\"train-balanced-sarcasm.csv\")).iloc[500000:501000]\n",
    "y_valid = np.array(validation_df[\"label\"].tolist()).T\n",
    "x_valid = np.matrix(vectorizer.transform(validation_df['comment'].values.astype('U')).toarray())"
   ]
  },
  {
   "cell_type": "code",
   "execution_count": 3,
   "metadata": {},
   "outputs": [],
   "source": [
    "# Dimensions of input for our model\n",
    "input_dim = x.shape[1]\n",
    "\n",
    "# Dimension of middle layers (we may not use all three)\n",
    "mid1 = input_dim\n",
    "mid2 = input_dim // 2\n",
    "mid3 = input_dim // 4\n",
    "\n",
    "output_dim = 2\n",
    "\n",
    "# Simple neural network which takes a vectorized bag of words as input\n",
    "class BowNN(nn.Module):  # inheriting from nn.Module!\n",
    "\n",
    "    # TODO: Improve this by passing in parameters instead of using global variables\n",
    "    def __init__(self):\n",
    "\n",
    "        super(BowNN, self).__init__()\n",
    "        \n",
    "        ## Activation functions used\n",
    "        self.tanh = nn.Tanh();\n",
    "\n",
    "        # Funnly connected layers\n",
    "        self.fc1 = nn.Linear(input_dim, mid1)\n",
    "        torch_init.xavier_normal_((self.fc1.weight))\n",
    "        \n",
    "        self.fc2 = nn.Linear(mid1, mid3)\n",
    "        torch_init.xavier_normal_((self.fc2.weight))\n",
    "        \n",
    "        self.fc3 = nn.Linear(mid3, output_dim) \n",
    "        torch_init.xavier_normal_((self.fc3.weight))\n",
    "\n",
    "    # Standard forward pass code\n",
    "    def forward(self, x):\n",
    "        out = self.fc1(x)\n",
    "        out = self.tanh(out)\n",
    "        out = self.fc2(out)\n",
    "        out = self.tanh(out)\n",
    "        out = self.fc3(out)\n",
    "        \n",
    "        return out"
   ]
  },
  {
   "cell_type": "code",
   "execution_count": 4,
   "metadata": {},
   "outputs": [],
   "source": [
    "# Initialize device and model\n",
    "device = torch.device('cuda' if torch.cuda.is_available() else 'cpu')\n",
    "model = BowNN().to(device)\n",
    "    \n",
    "# Use cross entropy loss\n",
    "criterion = nn.CrossEntropyLoss()\n",
    "optimizer = optim.Adam(model.parameters(), lr=0.0001, weight_decay=0.01)"
   ]
  },
  {
   "cell_type": "code",
   "execution_count": 5,
   "metadata": {},
   "outputs": [
    {
     "name": "stdout",
     "output_type": "stream",
     "text": [
      "VALID Accuracy at beginning of epoch\n",
      "0.538\n",
      "VALID Accuracy at END of epoch\n",
      "0.515\n",
      "DONE TRAINING\n"
     ]
    }
   ],
   "source": [
    "# Training code\n",
    "\n",
    "miniBatches = (list(zip(np.split(y, 50), np.split(x,50))))\n",
    "\n",
    "for epoch in range(10):\n",
    "    \n",
    "    # Get validation accuracy\n",
    "    v_inputs, v_targets = torch.from_numpy(x_valid).float().to(device), torch.from_numpy(y_valid).long().to(device)\n",
    "    outputs = model(v_inputs)\n",
    "    \n",
    "    predictions = outputs.max(dim = 1)[1]\n",
    "    begin_accuracy = torch.sum(predictions == v_targets).item() / v_targets.size()[0]\n",
    "    print(\"VALID Accuracy at beginning of epoch\" )\n",
    "    print(begin_accuracy)\n",
    "    \n",
    "    for batch in miniBatches:\n",
    "\n",
    "        curInput = batch[1]\n",
    "        curLabel = batch[0]\n",
    "    \n",
    "        inputs, targets = torch.from_numpy(curInput).float().to(device), torch.from_numpy(curLabel).long().to(device)\n",
    "\n",
    "        optimizer.zero_grad()\n",
    "\n",
    "        outputs = model(inputs)\n",
    "\n",
    "        loss = criterion(outputs, targets)\n",
    "        \n",
    "        loss.backward()\n",
    "\n",
    "        optimizer.step()\n",
    "        \n",
    "    outputs = model(v_inputs)\n",
    "    predictions = outputs.max(dim = 1)[1]\n",
    "    end_accuracy = torch.sum(predictions == v_targets).item() / v_targets.size()[0]\n",
    "    print(\"VALID Accuracy at END of epoch\" )\n",
    "    print(end_accuracy)    \n",
    "    \n",
    "    if (end_accuracy < begin_accuracy):\n",
    "        print(\"DONE TRAINING\")\n",
    "        break;\n",
    "        \n",
    "    print(\"\\n\")"
   ]
  },
  {
   "cell_type": "code",
   "execution_count": 7,
   "metadata": {},
   "outputs": [
    {
     "data": {
      "image/png": "[encoded data removed]",
      "text/plain": [
       "<Figure size 432x288 with 1 Axes>"
      ]
     },
     "metadata": {
      "needs_background": "light"
     },
     "output_type": "display_data"
    }
   ],
   "source": [
    "# TODO: turn this into a function, call it between training\n",
    "\n",
    "# Plot validation points (dimensionality reduction)\n",
    "v_inputs, v_targets = torch.from_numpy(x_valid).float().to(device), torch.from_numpy(y_valid).long().to(device)\n",
    "\n",
    "# Get outputs of model\n",
    "np_outputs = model(v_inputs).detach().numpy()\n",
    "np_targets = v_targets.numpy()\n",
    "\n",
    "pos_data = []\n",
    "neg_data = []\n",
    "\n",
    "# Allicate data for plotting\n",
    "for index in range(np_targets.size):\n",
    "    if (np_targets[index] == 1):\n",
    "        pos_data.append(np_outputs[index])\n",
    "    else:\n",
    "        neg_data.append(np_outputs[index])\n",
    "        \n",
    "\n",
    "plt.ylim([-1,1])\n",
    "plt.xlim([-1,1])\n",
    "plt.scatter(np.array(pos_data)[:,0], np.array(pos_data)[:,1], c=\"red\", s = .1)\n",
    "plt.scatter(np.array(neg_data)[:,0], np.array(neg_data)[:,1], c=\"blue\", s = .1)\n",
    "\n",
    "plt.show()\n"
   ]
  }
 ],
 "metadata": {
  "kernelspec": {
   "display_name": "Python 3",
   "language": "python",
   "name": "python3"
  },
  "language_info": {
   "codemirror_mode": {
    "name": "ipython",
    "version": 3
   },
   "file_extension": ".py",
   "mimetype": "text/x-python",
   "name": "python",
   "nbconvert_exporter": "python",
   "pygments_lexer": "ipython3",
   "version": "3.7.1"
  }
 },
 "nbformat": 4,
 "nbformat_minor": 2
}
