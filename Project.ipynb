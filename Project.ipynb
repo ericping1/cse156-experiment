{
 "cells": [
  {
   "cell_type": "code",
   "execution_count": 13,
   "metadata": {},
   "outputs": [],
   "source": [
    "from sklearn.feature_extraction.text import CountVectorizer\n",
    "\n",
    "import csv\n",
    "import pandas as pd\n",
    "import numpy as np\n",
    "import sklearn.utils"
   ]
  },
  {
   "cell_type": "code",
   "execution_count": 14,
   "metadata": {},
   "outputs": [],
   "source": [
    "# Get dataframe and simple pared down version of it\n",
    "training_dataframe = sklearn.utils.shuffle(pd.read_csv(\"train-balanced-sarcasm.csv\")).iloc[:250]\n",
    "\n",
    "# Create vectorizer to convert words to vectors\n",
    "vectorizer = CountVectorizer()\n",
    "vectorizer.fit(training_dataframe['comment'].values.astype('U'))\n",
    "\n",
    "# Create training data and labels with dataframe and vectorizer\n",
    "y = np.matrix(training_dataframe[\"label\"].tolist()).T\n",
    "x = np.matrix(vectorizer.transform(training_dataframe['comment'].values.astype('U')).toarray())\n",
    "\n",
    "# Dimensions of input for our model\n",
    "input_dim = x.shape[1]"
   ]
  },
  {
   "cell_type": "code",
   "execution_count": null,
   "metadata": {},
   "outputs": [],
   "source": []
  },
  {
   "cell_type": "code",
   "execution_count": null,
   "metadata": {},
   "outputs": [],
   "source": []
  },
  {
   "cell_type": "code",
   "execution_count": null,
   "metadata": {},
   "outputs": [],
   "source": []
  },
  {
   "cell_type": "code",
   "execution_count": null,
   "metadata": {},
   "outputs": [],
   "source": []
  },
  {
   "cell_type": "code",
   "execution_count": null,
   "metadata": {},
   "outputs": [],
   "source": []
  }
 ],
 "metadata": {
  "kernelspec": {
   "display_name": "Python 3",
   "language": "python",
   "name": "python3"
  },
  "language_info": {
   "codemirror_mode": {
    "name": "ipython",
    "version": 3
   },
   "file_extension": ".py",
   "mimetype": "text/x-python",
   "name": "python",
   "nbconvert_exporter": "python",
   "pygments_lexer": "ipython3",
   "version": "3.7.1"
  }
 },
 "nbformat": 4,
 "nbformat_minor": 2
}
