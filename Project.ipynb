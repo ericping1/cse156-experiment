{
 "cells": [
  {
   "cell_type": "code",
   "execution_count": 8,
   "metadata": {},
   "outputs": [],
   "source": [
    "import csv\n",
    "import pandas as pd\n",
    "import numpy as np\n",
    "import sklearn.utils\n",
    "\n",
    "from sklearn.feature_extraction.text import CountVectorizer\n",
    "\n",
    "import torch\n",
    "import torch.nn as nn\n",
    "import torch.optim as optim\n",
    "from torchvision import transforms, utils\n",
    "import torch.nn.functional as F\n",
    "import torch.nn.init as torch_init"
   ]
  },
  {
   "cell_type": "code",
   "execution_count": 2,
   "metadata": {},
   "outputs": [],
   "source": [
    "# Get dataframe and simple pared down version of it\n",
    "training_dataframe = sklearn.utils.shuffle(pd.read_csv(\"train-balanced-sarcasm.csv\")).iloc[:250]\n",
    "\n",
    "# Create vectorizer to convert words to vectors\n",
    "vectorizer = CountVectorizer()\n",
    "vectorizer.fit(training_dataframe['comment'].values.astype('U'))\n",
    "\n",
    "# Create training data and labels with dataframe and vectorizer\n",
    "y = np.matrix(training_dataframe[\"label\"].tolist()).T\n",
    "x = np.matrix(vectorizer.transform(training_dataframe['comment'].values.astype('U')).toarray())"
   ]
  },
  {
   "cell_type": "code",
   "execution_count": 7,
   "metadata": {},
   "outputs": [
    {
     "data": {
      "text/plain": [
       "[matrix([[0, 0, 0, ..., 0, 0, 0],\n",
       "         [0, 0, 0, ..., 0, 0, 0],\n",
       "         [0, 0, 0, ..., 0, 0, 0],\n",
       "         ...,\n",
       "         [0, 0, 0, ..., 0, 0, 0],\n",
       "         [0, 0, 0, ..., 0, 0, 0],\n",
       "         [0, 0, 0, ..., 0, 0, 0]])]"
      ]
     },
     "execution_count": 7,
     "metadata": {},
     "output_type": "execute_result"
    }
   ],
   "source": [
    "np.split(x, 1)"
   ]
  },
  {
   "cell_type": "code",
   "execution_count": 14,
   "metadata": {},
   "outputs": [],
   "source": [
    "# Dimensions of input for our model\n",
    "input_dim = x.shape[1]\n",
    "\n",
    "# Dimension of middle layers (we may not use all three)\n",
    "mid1 = input_dim\n",
    "mid2 = input_dim // 2\n",
    "mid3 = input_dim // 4\n",
    "\n",
    "output_dim = y.shape[1]\n",
    "\n",
    "# Simple neural network which takes a vectorized bag of words as input\n",
    "class BowNN(nn.Module):  # inheriting from nn.Module!\n",
    "\n",
    "    # TODO: Improve this by passing in parameters instead of using global variables\n",
    "    def __init__(self):\n",
    "\n",
    "        super(BowNN, self).__init__()\n",
    "        \n",
    "        self.tanh = nn.Tanh();\n",
    "        self.sigm = nn.Sigmoid();\n",
    "\n",
    "        self.fc1 = nn.Linear(input_dim, mid1)\n",
    "        torch_init.xavier_normal_((self.fc1.weight))\n",
    "        \n",
    "        self.fc2 = nn.Linear(mid1, mid3)\n",
    "        torch_init.xavier_normal_((self.fc2.weight))\n",
    "        \n",
    "        self.fc3 = nn.Linear(mid3, output_dim) \n",
    "        torch_init.xavier_normal_((self.fc3.weight))\n",
    "\n",
    "\n",
    "    def forward(self, bow_vec):\n",
    "        # Pass input through multiple layers\n",
    "        out = self.fc1(x)\n",
    "        out = self.tanh(out)\n",
    "        out = self.fc2(out)\n",
    "        out = self.tanh(out)\n",
    "        out = self.fc3(out)\n",
    "        out = self.sigm(out)\n",
    "        \n",
    "        return out\n",
    "\n",
    "    \n",
    "device = torch.device('cuda' if torch.cuda.is_available() else 'cpu')\n",
    "model = NeuralNet().to(device)\n",
    "\n",
    "    \n",
    "# Use binary cross entropy loss\n",
    "criterion = nn.BCELoss()\n",
    "optimizer = optim.Adam(model.parameters(), lr=0.001, weight_decay=0.01)\n"
   ]
  },
  {
   "cell_type": "code",
   "execution_count": 11,
   "metadata": {},
   "outputs": [
    {
     "data": {
      "text/plain": [
       "1"
      ]
     },
     "execution_count": 11,
     "metadata": {},
     "output_type": "execute_result"
    }
   ],
   "source": [
    "y.shape[1]"
   ]
  },
  {
   "cell_type": "code",
   "execution_count": null,
   "metadata": {},
   "outputs": [],
   "source": []
  },
  {
   "cell_type": "code",
   "execution_count": null,
   "metadata": {},
   "outputs": [],
   "source": []
  }
 ],
 "metadata": {
  "kernelspec": {
   "display_name": "Python 3",
   "language": "python",
   "name": "python3"
  },
  "language_info": {
   "codemirror_mode": {
    "name": "ipython",
    "version": 3
   },
   "file_extension": ".py",
   "mimetype": "text/x-python",
   "name": "python",
   "nbconvert_exporter": "python",
   "pygments_lexer": "ipython3",
   "version": "3.7.1"
  }
 },
 "nbformat": 4,
 "nbformat_minor": 2
}
